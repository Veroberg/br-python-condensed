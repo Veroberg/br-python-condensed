{
  "nbformat": 4,
  "nbformat_minor": 0,
  "metadata": {
    "colab": {
      "name": "Cópia de Copy of python_exercises_01.ipynb",
      "provenance": [],
      "include_colab_link": true
    },
    "kernelspec": {
      "name": "python3",
      "display_name": "Python 3"
    }
  },
  "cells": [
    {
      "cell_type": "markdown",
      "metadata": {
        "id": "view-in-github",
        "colab_type": "text"
      },
      "source": [
        "<a href=\"https://colab.research.google.com/github/Veroberg/br-python-condensed/blob/main/C%C3%B3pia_de_Copy_of_python_exercises_01.ipynb\" target=\"_parent\"><img src=\"https://colab.research.google.com/assets/colab-badge.svg\" alt=\"Open In Colab\"/></a>"
      ]
    },
    {
      "cell_type": "markdown",
      "metadata": {
        "id": "8YqaSZgXYJ5g"
      },
      "source": [
        "![](https://i.imgur.com/YX6UATs.png)\n"
      ]
    },
    {
      "cell_type": "markdown",
      "metadata": {
        "id": "hhUVzDipaGb9"
      },
      "source": [
        "### **Exercícios de Python - 1** \n",
        "\n",
        "\n",
        "\n"
      ]
    },
    {
      "cell_type": "markdown",
      "metadata": {
        "id": "qMGp-h8OaGqr"
      },
      "source": [
        "1 - Faça um programa, com uma função que necessite de três argumentos, e que forneça a soma desses três argumentos."
      ]
    },
    {
      "cell_type": "code",
      "metadata": {
        "id": "kTg-D89NdCld",
        "colab": {
          "base_uri": "https://localhost:8080/"
        },
        "outputId": "6e3ecba7-3a07-47a0-c600-11f4babac075"
      },
      "source": [
        "def soma3(d, m, a):\n",
        "    s = d + m + a\n",
        "    return s\n",
        "\n",
        "\n",
        "print('SOMA DE TRÊS NÚMEROS')\n",
        "d = int(input('Primeiro número: '))\n",
        "m = int(input('Segundo número: '))\n",
        "a = int(input('Terceiro número: '))\n",
        "\n",
        "print('Soma = ', soma3(d, m, a))"
      ],
      "execution_count": null,
      "outputs": [
        {
          "output_type": "stream",
          "text": [
            "SOMA DE TRÊS NÚMEROS\n",
            "Primeiro número: 29\n",
            "Segundo número: 09\n",
            "Terceiro número: 1982\n",
            "Soma =  2020\n"
          ],
          "name": "stdout"
        }
      ]
    },
    {
      "cell_type": "markdown",
      "metadata": {
        "id": "KdLXZftIaG60"
      },
      "source": [
        "2 - Faça um Programa que peça a temperatura em graus Celsius, transforme e mostre em graus Fahrenheit. \\\n",
        "*Dica: procure a fórmula para essa conversão na internet*"
      ]
    },
    {
      "cell_type": "code",
      "metadata": {
        "id": "MNINJ32eU45M"
      },
      "source": [
        "teste2"
      ],
      "execution_count": null,
      "outputs": []
    },
    {
      "cell_type": "markdown",
      "metadata": {
        "id": "4OETBVgmaGzX"
      },
      "source": [
        "3 - Faça um Programa que peça um número inteiro e determine se ele é par ou impar. Dica: utilize o operador módulo (resto da divisão)."
      ]
    },
    {
      "cell_type": "code",
      "metadata": {
        "id": "WbzCimFZVSr1",
        "colab": {
          "base_uri": "https://localhost:8080/"
        },
        "outputId": "ee4cb2ff-2362-4036-8293-f8192e12d1b6"
      },
      "source": [
        "Número = float(input('Digitar um número para descobrir se é ímpar ou se é par: '))\n",
        "resto = Número % 2\n",
        "\n",
        "if resto == 1:\n",
        "    print('Número é ímpar')\n",
        "else:\n",
        "    print('Número é par')"
      ],
      "execution_count": null,
      "outputs": [
        {
          "output_type": "stream",
          "text": [
            "Digitar um número para descobrir se é ímpar ou se é par: 161394\n",
            "Número é par\n"
          ],
          "name": "stdout"
        }
      ]
    },
    {
      "cell_type": "markdown",
      "metadata": {
        "id": "7zPJ8sgPaGw0"
      },
      "source": [
        "4 - Faça um programa que peça o tamanho de um arquivo para download (em MB) e a velocidade de um link de Internet (em Mbps), calcule e informe o tempo aproximado de download do arquivo usando este link (em minutos)."
      ]
    },
    {
      "cell_type": "code",
      "metadata": {
        "id": "l4qtSxU7XquB",
        "colab": {
          "base_uri": "https://localhost:8080/"
        },
        "outputId": "012deb77-a4ca-4689-aaca-d58560dd2589"
      },
      "source": [
        "tamanho = float(input('Tamanho do arquivo (MB): '))\r\n",
        "velocidade = float(input('Velocidade de Internet (MBps): '))\r\n",
        "print('Tempo aproximado de download: %.0f Minutos ' %((tamanho / velocidade) * 60))"
      ],
      "execution_count": 1,
      "outputs": [
        {
          "output_type": "stream",
          "text": [
            "Tamanho do arquivo (MB): 250\n",
            "Velocidade de Internet (MBps): 30\n",
            "Tempo aproximado de download: 500 Minutos \n"
          ],
          "name": "stdout"
        }
      ]
    },
    {
      "cell_type": "markdown",
      "metadata": {
        "id": "0tkhm6EUaG1u"
      },
      "source": [
        "5 - Faça um programa para a leitura de duas notas parciais de um aluno. O programa deve calcular a média alcançada por aluno e apresentar:\n",
        "- A mensagem \"Aprovado\", se a média alcançada for maior ou igual a sete;\n",
        "- A mensagem \"Reprovado\", se a média for menor do que sete;\n",
        "- A mensagem \"Aprovado com Distinção\", se a média for igual a dez."
      ]
    },
    {
      "cell_type": "code",
      "metadata": {
        "id": "990mQ6UhdwKl",
        "colab": {
          "base_uri": "https://localhost:8080/"
        },
        "outputId": "48484761-5f4d-4076-c851-e9dc2470a028"
      },
      "source": [
        "Nota1 = int(input('Digite a Nota1: '))\n",
        "Nota2 = int(input('Digite a Nota2: '))\n",
        "Média = (Nota1 + Nota2)/2\n",
        "\n",
        "if Média >= 7: \n",
        "    print('Aprovado')\n",
        "elif Média == 10:\n",
        "    print('Aprovado com Distinção')\n",
        "else: \n",
        "    print('Reprovado')\n",
        "    "
      ],
      "execution_count": null,
      "outputs": [
        {
          "output_type": "stream",
          "text": [
            "Digite a Nota1: 10\n",
            "Digite a Nota2: 3\n",
            "Reprovado\n"
          ],
          "name": "stdout"
        }
      ]
    },
    {
      "cell_type": "markdown",
      "metadata": {
        "id": "Lm1tOKThnU42"
      },
      "source": [
        "Exercícios adaptados de Python Brasil"
      ]
    }
  ]
}