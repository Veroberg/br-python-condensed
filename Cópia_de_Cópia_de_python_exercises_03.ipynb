{
  "nbformat": 4,
  "nbformat_minor": 0,
  "metadata": {
    "colab": {
      "name": "Cópia de Cópia de python_exercises_03.ipynb",
      "provenance": [],
      "include_colab_link": true
    },
    "kernelspec": {
      "name": "python3",
      "display_name": "Python 3"
    }
  },
  "cells": [
    {
      "cell_type": "markdown",
      "metadata": {
        "id": "view-in-github",
        "colab_type": "text"
      },
      "source": [
        "<a href=\"https://colab.research.google.com/github/Veroberg/br-python-condensed/blob/main/C%C3%B3pia_de_C%C3%B3pia_de_python_exercises_03.ipynb\" target=\"_parent\"><img src=\"https://colab.research.google.com/assets/colab-badge.svg\" alt=\"Open In Colab\"/></a>"
      ]
    },
    {
      "cell_type": "markdown",
      "metadata": {
        "id": "8YqaSZgXYJ5g"
      },
      "source": [
        "![](https://i.imgur.com/YX6UATs.png)\n"
      ]
    },
    {
      "cell_type": "markdown",
      "metadata": {
        "id": "hhUVzDipaGb9"
      },
      "source": [
        "### **Exercícios de Python - 3** \n",
        "\n",
        "\n",
        "\n"
      ]
    },
    {
      "cell_type": "markdown",
      "metadata": {
        "id": "7O6AZt8-aGlr"
      },
      "source": [
        "1 - Classe Bola:\\\n",
        "Crie uma classe que modele uma bola:\n",
        "\n",
        "Atributos: Cor, material\\\n",
        "Métodos: trocaCor "
      ]
    },
    {
      "cell_type": "code",
      "metadata": {
        "id": "ibipMzmZcfIF",
        "colab": {
          "base_uri": "https://localhost:8080/"
        },
        "outputId": "ee876614-521f-47d2-f831-21b9d0889ca5"
      },
      "source": [
        "class Ball:\r\n",
        "    def __init__(self, color=\"unknown\", material=\"unknown\"):\r\n",
        "        self.color = color\r\n",
        "        self.material = material\r\n",
        "\r\n",
        "    def trocaCor(self):\r\n",
        "        troca = input(\"Deseja mudar a cor atual {}? [s/n]\".format(self.color))\r\n",
        "\r\n",
        "        troca = troca[0].lower()\r\n",
        "\r\n",
        "        if troca == \"s\":\r\n",
        "            nova_cor = input(\"\\n> Nova Cor: \")\r\n",
        "            self.color = nova_cor\r\n",
        "        else:\r\n",
        "            print(\"Ok a cor continua {}\".format(self.color))\r\n",
        "\r\n",
        "def main():\r\n",
        "    bola01 = Ball(\"lilás\", \"borracha\")\r\n",
        "\r\n",
        "    while True:\r\n",
        "        bola01.trocaCor()\r\n",
        "\r\n",
        "        continuar = input(\"Continuar? [s/n]\")\r\n",
        "        continuar = continuar[0].lower()\r\n",
        "        if continuar == \"n\":\r\n",
        "            break\r\n",
        "\r\n",
        "\r\n",
        "main()            "
      ],
      "execution_count": null,
      "outputs": [
        {
          "output_type": "stream",
          "text": [
            "Deseja mudar a cor atual lilás? [s/n]s\n",
            "\n",
            "> Nova Cor: Rosa\n",
            "Continuar? [s/n]s\n",
            "Deseja mudar a cor atual Rosa? [s/n]n\n",
            "Ok a cor continua Rosa\n",
            "Continuar? [s/n]n\n"
          ],
          "name": "stdout"
        }
      ]
    },
    {
      "cell_type": "markdown",
      "metadata": {
        "id": "c62cM2VlKFqN"
      },
      "source": [
        "2 - Classe Quadrado: Crie uma classe que modele um quadrado:\n",
        "\n",
        "Atributos: Tamanho do lado\n",
        "Métodos: Mudar valor do Lado e calcular Área;"
      ]
    },
    {
      "cell_type": "code",
      "metadata": {
        "id": "M_5mNjNbKFMI",
        "colab": {
          "base_uri": "https://localhost:8080/"
        },
        "outputId": "e8050e38-15c0-4cc8-eb69-0df5f00b6f83"
      },
      "source": [
        "class Square:\r\n",
        "    def __init__(self, lado=\"0\"):\r\n",
        "        self.lado = lado\r\n",
        "\r\n",
        "    @property\r\n",
        "    def lado(self):\r\n",
        "        return self.__lado\r\n",
        "\r\n",
        "    @lado.setter\r\n",
        "    def lado(self, valor):\r\n",
        "\r\n",
        "        if valor.isdigit():\r\n",
        "            self.__lado = valor\r\n",
        "        else:\r\n",
        "            print(\"O valor do lado é em numeros\")\r\n",
        "\r\n",
        "    \r\n",
        "    def valorLado(self):\r\n",
        "        print(\"\\nO valor do lado é {} cm\".format(self.__lado))\r\n",
        "        \r\n",
        "\r\n",
        "    def mudarLado(self):\r\n",
        "        novoLado = input(\"\\nMudar lado de {} cm para: \".format(self.__lado))\r\n",
        "        self.lado = novoLado\r\n",
        "\r\n",
        "    def calcArea(self):\r\n",
        "        print(\"\\nA área do quadrado é {:.2f} cm²\".format(\r\n",
        "            float(self.__lado) * float(self.__lado)))\r\n",
        "\r\n",
        "    def __str__(self):\r\n",
        "        return \"O quadrado possui {} cm de lado e {:.2f} cm² de area\".format(\r\n",
        "            self.__lado, float(self.__lado) * float(self.__lado))\r\n",
        "\r\n",
        "\r\n",
        "def main():\r\n",
        "    quadradoA = Square()\r\n",
        "    lado = input(\"Insira o valor do lado: \")\r\n",
        "    quadradoA.lado = lado\r\n",
        "\r\n",
        "    print(quadradoA)\r\n",
        "\r\n",
        "    quadradoA.mudarLado()\r\n",
        "    quadradoA.valorLado()\r\n",
        "    quadradoA.calcArea()\r\n",
        "\r\n",
        "\r\n",
        "main()"
      ],
      "execution_count": null,
      "outputs": [
        {
          "output_type": "stream",
          "text": [
            "Insira o valor do lado: 6\n",
            "O quadrado possui 6 cm de lado e 36.00 cm² de area\n",
            "\n",
            "Mudar lado de 6 cm para: 8\n",
            "\n",
            "O valor do lado é 8 cm\n",
            "\n",
            "A área do quadrado é 64.00 cm²\n"
          ],
          "name": "stdout"
        }
      ]
    },
    {
      "cell_type": "markdown",
      "metadata": {
        "id": "qMGp-h8OaGqr"
      },
      "source": [
        "3 - Classe funcionário \\\n",
        "Crie uma classe que crie funcionários de uma empresa.\\\n",
        "Atributos: Nome, Função, Salário. \\\n",
        "Métodos: aumento anual. O aumento anual deve ser de 10%.\\\n",
        "Crie dois objetos e dê um aument de 10% a um deles e um aumento de 20% ao outro."
      ]
    },
    {
      "cell_type": "code",
      "metadata": {
        "id": "xdLBZuB5DA49"
      },
      "source": [
        ""
      ],
      "execution_count": null,
      "outputs": []
    },
    {
      "cell_type": "markdown",
      "metadata": {
        "id": "lCMWrvt3P4_x"
      },
      "source": [
        "04 - Utilizando a biblioteca Numpy, obtenha as médias, medianas e desvios padrão de altura, peso e IMC dos membros do dicionário a seguir:\\\n",
        "Trasforme os dicionários em um numpy array e utilize os métodos próprios dessa classe."
      ]
    },
    {
      "cell_type": "code",
      "metadata": {
        "id": "l4qtSxU7XquB"
      },
      "source": [
        "clientes = {'Charlotte': {'altura': 1.56, 'imc': 21, 'peso': 52, 'sexo': 'F'},\n",
        " 'Claudia': {'altura': 1.56, 'imc': 25, 'peso': 62, 'sexo': 'F'},\n",
        " 'Jonas': {'altura': 1.56, 'imc': 21, 'peso': 52, 'sexo': 'M'},\n",
        " 'Martha': {'altura': 1.98, 'imc': 19, 'peso': 76, 'sexo': 'F'},\n",
        " 'Mikkel': {'altura': 1.56, 'imc': 28, 'peso': 67, 'sexo': 'M'},\n",
        " 'Ulrich': {'altura': 1.92, 'imc': 22, 'peso': 80, 'sexo': 'M'}}\n"
      ],
      "execution_count": null,
      "outputs": []
    },
    {
      "cell_type": "code",
      "metadata": {
        "id": "F5daqbyR5Fuj",
        "colab": {
          "base_uri": "https://localhost:8080/"
        },
        "outputId": "e06ac00d-85f1-404f-9f33-b91f5fef644e"
      },
      "source": [
        "# Desvio Padrão de altura\r\n",
        "altura = np.array([1.56, 1.56, 1.56, 1.98, 1.56, 1.92])\r\n",
        "np.std(altura) "
      ],
      "execution_count": null,
      "outputs": [
        {
          "output_type": "execute_result",
          "data": {
            "text/plain": [
              "0.18466185312619385"
            ]
          },
          "metadata": {
            "tags": []
          },
          "execution_count": 188
        }
      ]
    },
    {
      "cell_type": "code",
      "metadata": {
        "id": "VxK9DZkk5HYc",
        "colab": {
          "base_uri": "https://localhost:8080/"
        },
        "outputId": "561e2af8-53ae-4bcd-afe9-aec77c526c0a"
      },
      "source": [
        "# Desvio Padrão do imc\r\n",
        "imc = np.array([21, 25, 21, 19, 28, 22])\r\n",
        "np.std(imc)  "
      ],
      "execution_count": null,
      "outputs": [
        {
          "output_type": "execute_result",
          "data": {
            "text/plain": [
              "2.981423969999719"
            ]
          },
          "metadata": {
            "tags": []
          },
          "execution_count": 144
        }
      ]
    },
    {
      "cell_type": "code",
      "metadata": {
        "id": "ypH6mF865PTE",
        "colab": {
          "base_uri": "https://localhost:8080/"
        },
        "outputId": "86ecc109-a4db-4917-c7e4-6e21eff70f27"
      },
      "source": [
        "# Desvio Padrão de peso\r\n",
        "peso = np.array([52, 62, 52, 76, 67, 80])\r\n",
        "np.std(peso) "
      ],
      "execution_count": null,
      "outputs": [
        {
          "output_type": "execute_result",
          "data": {
            "text/plain": [
              "10.77677544021814"
            ]
          },
          "metadata": {
            "tags": []
          },
          "execution_count": 145
        }
      ]
    },
    {
      "cell_type": "code",
      "metadata": {
        "id": "NrtzwIa_4Ht3",
        "colab": {
          "base_uri": "https://localhost:8080/"
        },
        "outputId": "530a85ae-10df-4457-c12d-2dbeaf840890"
      },
      "source": [
        "# Media da altura\r\n",
        "altura = np.array([1.56, 1.56, 1.56, 1.98, 1.56, 1.92])\r\n",
        "np.mean(altura)"
      ],
      "execution_count": null,
      "outputs": [
        {
          "output_type": "execute_result",
          "data": {
            "text/plain": [
              "1.6900000000000002"
            ]
          },
          "metadata": {
            "tags": []
          },
          "execution_count": 190
        }
      ]
    },
    {
      "cell_type": "code",
      "metadata": {
        "id": "KIC2l0pw8M34",
        "colab": {
          "base_uri": "https://localhost:8080/"
        },
        "outputId": "0d7a6232-bc9e-46be-d3ec-4dd99ddcd036"
      },
      "source": [
        "# Media do imc\r\n",
        "imc = np.array([21, 25, 21, 19, 28, 22])\r\n",
        "np.mean(imc)"
      ],
      "execution_count": null,
      "outputs": [
        {
          "output_type": "execute_result",
          "data": {
            "text/plain": [
              "22.666666666666668"
            ]
          },
          "metadata": {
            "tags": []
          },
          "execution_count": 173
        }
      ]
    },
    {
      "cell_type": "code",
      "metadata": {
        "id": "-MyPdsZr8NEm",
        "colab": {
          "base_uri": "https://localhost:8080/"
        },
        "outputId": "91e21f64-0f51-4b07-a692-1f89d6adc402"
      },
      "source": [
        "# Media do peso\r\n",
        "peso = np.array([52, 62, 52, 76, 67, 80])\r\n",
        "np.mean(peso)"
      ],
      "execution_count": null,
      "outputs": [
        {
          "output_type": "execute_result",
          "data": {
            "text/plain": [
              "64.83333333333333"
            ]
          },
          "metadata": {
            "tags": []
          },
          "execution_count": 174
        }
      ]
    },
    {
      "cell_type": "code",
      "metadata": {
        "id": "K4s_sdYx6vX9",
        "colab": {
          "base_uri": "https://localhost:8080/"
        },
        "outputId": "a1b9c14a-b892-460f-99e3-722342d6629d"
      },
      "source": [
        "# Mediana da altura\r\n",
        "altura = np.array([1.56, 1.56, 1.56, 1.98, 1.56, 1.92])\r\n",
        "np.sort(altura)"
      ],
      "execution_count": null,
      "outputs": [
        {
          "output_type": "execute_result",
          "data": {
            "text/plain": [
              "array([1.56, 1.56, 1.56, 1.56, 1.92, 1.98])"
            ]
          },
          "metadata": {
            "tags": []
          },
          "execution_count": 192
        }
      ]
    },
    {
      "cell_type": "code",
      "metadata": {
        "id": "T8FwSHnA7NWu",
        "colab": {
          "base_uri": "https://localhost:8080/"
        },
        "outputId": "a0c0e617-3fdf-42c7-dc16-c2f88ff308cc"
      },
      "source": [
        "# Mediana do imc\r\n",
        "imc = np.array([21, 25, 21, 19, 28, 22])\r\n",
        "np.sort(imc)"
      ],
      "execution_count": null,
      "outputs": [
        {
          "output_type": "execute_result",
          "data": {
            "text/plain": [
              "array([19, 21, 21, 22, 25, 28])"
            ]
          },
          "metadata": {
            "tags": []
          },
          "execution_count": 155
        }
      ]
    },
    {
      "cell_type": "code",
      "metadata": {
        "id": "KVbl05Ol7Nmz",
        "colab": {
          "base_uri": "https://localhost:8080/"
        },
        "outputId": "9ee2fcaf-917c-4111-e7c9-5d70948d9ae8"
      },
      "source": [
        "# Mediana do peso\r\n",
        "peso = np.array([52, 62, 52, 76, 67, 80])\r\n",
        "np.sort(peso)"
      ],
      "execution_count": null,
      "outputs": [
        {
          "output_type": "execute_result",
          "data": {
            "text/plain": [
              "array([52, 52, 62, 67, 76, 80])"
            ]
          },
          "metadata": {
            "tags": []
          },
          "execution_count": 156
        }
      ]
    },
    {
      "cell_type": "markdown",
      "metadata": {
        "id": "1a_TuuI6QDWa"
      },
      "source": [
        "05 - Realize o mesmo procedimento com a biblioteca Statistics\n"
      ]
    },
    {
      "cell_type": "code",
      "metadata": {
        "id": "SsDOEV82CRP1"
      },
      "source": [
        "import statistics\r\n",
        "import math\r\n",
        "from scipy import stats\r\n",
        "import numpy\r\n",
        "from collections import Counter"
      ],
      "execution_count": null,
      "outputs": []
    },
    {
      "cell_type": "code",
      "metadata": {
        "id": "y64mwLBVhN1L",
        "colab": {
          "base_uri": "https://localhost:8080/"
        },
        "outputId": "a4488d41-b3b6-476f-c94b-eefb34375a4d"
      },
      "source": [
        "# Mediana da altura\r\n",
        "altura = [1.56, 1.56, 1.56, 1.98, 1.56, 1.92]\r\n",
        "mediana = statistics.median(altura)\r\n",
        "print(\"Mediana: Altura \", mediana)\r\n",
        "\r\n",
        "# Mediana do imc\r\n",
        "imc = [21, 25, 21, 19, 28, 22]\r\n",
        "mediana = statistics.median(imc)\r\n",
        "print(\"Mediana: Imc \", mediana)\r\n",
        "\r\n",
        "# Mediana do peso\r\n",
        "peso = [52, 62, 52, 76, 67, 80]\r\n",
        "mediana = statistics.median(peso)\r\n",
        "print(\"Mediana: Peso \", mediana)\r\n"
      ],
      "execution_count": null,
      "outputs": [
        {
          "output_type": "stream",
          "text": [
            "Mediana: Altura  1.56\n",
            "Mediana: Imc  21.5\n",
            "Mediana: Peso  64.5\n"
          ],
          "name": "stdout"
        }
      ]
    },
    {
      "cell_type": "code",
      "metadata": {
        "id": "lO1fveEjAzeH",
        "colab": {
          "base_uri": "https://localhost:8080/"
        },
        "outputId": "23b13052-19d3-4bb1-ea1f-8aac6dc4c95d"
      },
      "source": [
        "# Media da altura\r\n",
        "altura = [1.56, 1.56, 1.56, 1.98, 1.56, 1.92]\r\n",
        "media = statistics.mean(altura)\r\n",
        "print(\"Média aritmética: Altura \", media)\r\n",
        "\r\n",
        "# Media do imc\r\n",
        "imc = [21, 25, 21, 19, 28, 22]\r\n",
        "media = statistics.mean(imc)\r\n",
        "print(\"Média aritmética: Imc \", media)\r\n",
        "\r\n",
        "# Media do peso\r\n",
        "peso = [52, 62, 52, 76, 67, 80]\r\n",
        "media = statistics.mean(peso)\r\n",
        "print(\"Média aritmética:Altura: Peso \", media)"
      ],
      "execution_count": null,
      "outputs": [
        {
          "output_type": "stream",
          "text": [
            "Média aritmética: Altura  1.69\n",
            "Média aritmética: Imc  22.666666666666668\n",
            "Média aritmética:Altura: Peso  64.83333333333333\n"
          ],
          "name": "stdout"
        }
      ]
    }
  ]
}