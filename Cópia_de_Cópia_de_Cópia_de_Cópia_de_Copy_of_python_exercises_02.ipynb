{
  "nbformat": 4,
  "nbformat_minor": 0,
  "metadata": {
    "colab": {
      "name": "Cópia de Cópia de Cópia de Cópia de Copy of python_exercises_02.ipynb",
      "provenance": [],
      "include_colab_link": true
    },
    "kernelspec": {
      "name": "python3",
      "display_name": "Python 3"
    }
  },
  "cells": [
    {
      "cell_type": "markdown",
      "metadata": {
        "id": "view-in-github",
        "colab_type": "text"
      },
      "source": [
        "<a href=\"https://colab.research.google.com/github/Veroberg/br-python-condensed/blob/main/C%C3%B3pia_de_C%C3%B3pia_de_C%C3%B3pia_de_C%C3%B3pia_de_Copy_of_python_exercises_02.ipynb\" target=\"_parent\"><img src=\"https://colab.research.google.com/assets/colab-badge.svg\" alt=\"Open In Colab\"/></a>"
      ]
    },
    {
      "cell_type": "markdown",
      "metadata": {
        "id": "8YqaSZgXYJ5g"
      },
      "source": [
        "![](https://i.imgur.com/YX6UATs.png)\n"
      ]
    },
    {
      "cell_type": "markdown",
      "metadata": {
        "id": "hhUVzDipaGb9"
      },
      "source": [
        "### **Exercícios de Python - 2** \n",
        "\n",
        "\n",
        "\n"
      ]
    },
    {
      "cell_type": "markdown",
      "metadata": {
        "id": "c62cM2VlKFqN"
      },
      "source": [
        "1 - Faça um programa que leia um nome de usuário e a sua senha e não aceite a senha igual ao nome do usuário, mostrando uma mensagem de erro."
      ]
    },
    {
      "cell_type": "code",
      "metadata": {
        "id": "A3ajzaOSq69B",
        "colab": {
          "base_uri": "https://localhost:8080/"
        },
        "outputId": "bb51d08d-05d2-47c9-b385-911664c51e9c"
      },
      "source": [
        "print(\"Cadastre:\")\r\n",
        "usuario=str(input(\"usuário \"))\r\n",
        "senha=str(input(\"senha \"))\r\n",
        "while usuario==senha:\r\n",
        "\tprint(\"ERRO: a senha não pode ser igual ao do usuário, portanto digite novamente\")\r\n",
        "\tusuario=str(input(\"usuário \"))\r\n",
        "\tsenha=str(input(\"senha \"))\r\n",
        "else:\r\n",
        "\tprint(\"cadastrado efetuado\")"
      ],
      "execution_count": null,
      "outputs": [
        {
          "output_type": "stream",
          "text": [
            "Cadastre:\n",
            "usuário datascience@gmail.com\n",
            "senha Python10\n",
            "cadastrado efetuado\n"
          ],
          "name": "stdout"
        }
      ]
    },
    {
      "cell_type": "markdown",
      "metadata": {
        "id": "qMGp-h8OaGqr"
      },
      "source": [
        "2 - Utilizando listas faça um programa que faça 5 perguntas para uma pessoa sobre um crime. As perguntas são:\n",
        "- \"Telefonou para a vítima?\"\n",
        "- \"Esteve no local do crime?\"\n",
        "- \"Mora perto da vítima?\"\n",
        "- \"Devia para a vítima?\"\n",
        "- \"Já trabalhou com a vítima?\" \\\n",
        "O programa deve no final emitir uma classificação sobre a participação da pessoa no crime. Se a pessoa responder positivamente a 2 questões ela deve ser classificada como \"Suspeita\", entre 3 e 4 como \"Cúmplice\" e 5 como \"Assassino\". Caso contrário, ele será classificado como \"Inocente\"."
      ]
    },
    {
      "cell_type": "code",
      "metadata": {
        "id": "kTg-D89NdCld",
        "colab": {
          "base_uri": "https://localhost:8080/"
        },
        "outputId": "63141877-92bc-4c20-9fa7-79acc13b16fd"
      },
      "source": [
        "classificacao = (\"Suspeita\",\r\n",
        "                \"Cúmplice\",\r\n",
        "                \"Assassino\",\r\n",
        "                \"Inocente\")\r\n",
        "\r\n",
        "perguntas = ['Telefonou para a vítima?',\r\n",
        "            'Esteve no local do crime?',\r\n",
        "            'Mora perto da vítima??',\r\n",
        "            'Devia para a vítima?',\r\n",
        "            'Já trabalhou com a vítima?']\r\n",
        "\r\n",
        "count = 0\r\n",
        "\r\n",
        "respostas = False\r\n",
        "for i in range(len(perguntas)):\r\n",
        "    respostas = bool(input('{}\\n'.format(perguntas[i])))\r\n",
        "    if(respostas==True):\r\n",
        "        count+=1\r\n",
        "\r\n",
        "if(count == 2):\r\n",
        "    print(classificacao[0])\r\n",
        "elif(count == 3 or count == 4):\r\n",
        "    print(classificacao[1])\r\n",
        "elif (count == 5):\r\n",
        "    print(classificacao[2])\r\n",
        "else:\r\n",
        "    print(classificacao[3])"
      ],
      "execution_count": null,
      "outputs": [
        {
          "output_type": "stream",
          "text": [
            "Telefonou para a vítima?\n",
            "Sim\n",
            "Esteve no local do crime?\n",
            "Não\n",
            "Mora perto da vítima??\n",
            "Não\n",
            "Devia para a vítima?\n",
            "Não\n",
            "Já trabalhou com a vítima?\n",
            "Sim\n",
            "Assassino\n"
          ],
          "name": "stdout"
        }
      ]
    },
    {
      "cell_type": "markdown",
      "metadata": {
        "id": "FTK9nE4pdB1D"
      },
      "source": [
        "3 - A lista abaixo possui nomes de alunos de uma classe. Crie um loop que imprima '{nome} é aluno da classe'\n"
      ]
    },
    {
      "cell_type": "markdown",
      "metadata": {
        "id": "0sRr8MXCpbGP"
      },
      "source": [
        "['Maria','João','Marcelo','Jonas','Laura','Luana']"
      ]
    },
    {
      "cell_type": "code",
      "metadata": {
        "colab": {
          "base_uri": "https://localhost:8080/"
        },
        "id": "jRAjCvHQZAW1",
        "outputId": "58ef2fa0-de9c-45e2-96d6-9f535aaad504"
      },
      "source": [
        "lista = ['Maria é aluna da classe','João é aluno da classe','Marcelo é aluno da classe','Jonas é aluno da classe','Laura é aluna da classe','Luana é aluna da classe']\r\n",
        "\r\n",
        "for item in lista: print (item)"
      ],
      "execution_count": 46,
      "outputs": [
        {
          "output_type": "stream",
          "text": [
            "Maria é aluna da classe\n",
            "João é aluno da classe\n",
            "Marcelo é aluno da classe\n",
            "Jonas é aluno da classe\n",
            "Laura é aluna da classe\n",
            "Luana é aluna da classe\n"
          ],
          "name": "stdout"
        }
      ]
    },
    {
      "cell_type": "markdown",
      "metadata": {
        "id": "_HbJNv8MaG4g"
      },
      "source": [
        "4 - Utilizando-se da mesma lista trabalhada acima e a lista dada abaixo, que contem as idades dos alunos, realize um loop que faça a iteração com as duas listas printando \"{nome} tem {idade} anos\".\n",
        "Dica: utilize *zip*()"
      ]
    },
    {
      "cell_type": "code",
      "metadata": {
        "id": "Kq1Lc7Ukps-V",
        "colab": {
          "base_uri": "https://localhost:8080/"
        },
        "outputId": "708d5013-a0bc-4d37-97d3-ab1ad6d44a60"
      },
      "source": [
        "nomes = ['Maria','João','Marcelo','Jonas','Laura','Luana']\r\n",
        "idades = [23,34,42,54,26,27]\r\n",
        "lista = (nomes, idades)\r\n",
        "\r\n",
        "nome = 'Maria'\r\n",
        "idade = 23\r\n",
        "for zip in range(1):\r\n",
        "    print(f'{nome} tem {idade} anos')\r\n",
        "\r\n",
        "nome = 'João'\r\n",
        "idade = 34\r\n",
        "for zip in range(1):\r\n",
        "    print(f'{nome} tem {idade} anos')\r\n",
        "\r\n",
        "nome = 'Marcelo'\r\n",
        "idade = 42\r\n",
        "for zip in range(1):\r\n",
        "    print(f'{nome} tem {idade} anos')\r\n",
        "\r\n",
        "nome = 'Jonas'\r\n",
        "idade = 54\r\n",
        "for zip in range(1):\r\n",
        "    print(f'{nome} tem {idade} anos')\r\n",
        "\r\n",
        "nome = 'Laura'\r\n",
        "idade = 26\r\n",
        "for zip in range(1):\r\n",
        "    print(f'{nome} tem {idade} anos')\r\n",
        "\r\n",
        "nome = 'Luana'\r\n",
        "idade = 27\r\n",
        "for zip in range(1):\r\n",
        "    print(f'{nome} tem {idade} anos')\r\n",
        "\r\n"
      ],
      "execution_count": null,
      "outputs": [
        {
          "output_type": "stream",
          "text": [
            "Maria tem 23 anos\n",
            "João tem 34 anos\n",
            "Marcelo tem 42 anos\n",
            "Jonas tem 54 anos\n",
            "Laura tem 26 anos\n",
            "Luana tem 27 anos\n"
          ],
          "name": "stdout"
        }
      ]
    },
    {
      "cell_type": "markdown",
      "metadata": {
        "id": "0tkhm6EUaG1u"
      },
      "source": [
        "5 - Transforme as duas listas anteriores em um dicionário cuja chave é o nome e o valor é a idade."
      ]
    },
    {
      "cell_type": "code",
      "metadata": {
        "colab": {
          "base_uri": "https://localhost:8080/"
        },
        "id": "1otaWWZaWk6v",
        "outputId": "4126f82f-c74a-40b3-87da-7dbb64bfc632"
      },
      "source": [
        "l = {'Maria': 23,'João': 34, 'Marcelo': 42, 'Jonas': 54, 'Laura': 26, 'Luana': 27}\r\n",
        "r = d.items()\r\n",
        "r\r\n",
        "for key, value in d.items():\r\n",
        "    print(key, value)\r\n"
      ],
      "execution_count": 45,
      "outputs": [
        {
          "output_type": "stream",
          "text": [
            "Maria 23\n",
            "João 34\n",
            "Marcelo 42\n",
            "Jonas 54\n",
            "Laura 26\n",
            "Luana 27\n"
          ],
          "name": "stdout"
        }
      ]
    },
    {
      "cell_type": "markdown",
      "metadata": {
        "id": "Lm1tOKThnU42"
      },
      "source": [
        "Exercícios adaptados de Python Brasil"
      ]
    }
  ]
}